{
 "cells": [
  {
   "cell_type": "markdown",
   "metadata": {
    "id": "2mizmcgC6VS8"
   },
   "source": [
    "# Preparación de ambiente"
   ]
  },
  {
   "cell_type": "markdown",
   "metadata": {
    "id": "l7L8pCBC6VS8"
   },
   "source": [
    "## Carga de módulos"
   ]
  },
  {
   "cell_type": "markdown",
   "metadata": {
    "colab": {
     "base_uri": "https://localhost:8080/"
    },
    "id": "51Sb60WXAfsQ",
    "outputId": "65d92696-d5c8-43b9-de01-2b17a8a0b72a"
   },
   "source": [
    "!pip install varclushi\n",
    "!pip install geopandas\n",
    "!pip install geopy"
   ]
  },
  {
   "cell_type": "code",
   "execution_count": 1,
   "metadata": {
    "ExecuteTime": {
     "end_time": "2021-05-14T01:05:44.906794Z",
     "start_time": "2021-05-14T01:05:43.034267Z"
    },
    "colab": {
     "base_uri": "https://localhost:8080/",
     "height": 17
    },
    "id": "vrRSCRia6VS9",
    "outputId": "dbd036c6-fab7-4682-963a-fdc810597870"
   },
   "outputs": [
    {
     "name": "stderr",
     "output_type": "stream",
     "text": [
      "/home/abraxas/venv/DIPLOMADO/lib/python3.8/site-packages/tqdm/std.py:703: FutureWarning: The Panel class is removed from pandas. Accessing it from the top-level namespace will also be removed in the next version\n",
      "  from pandas import Panel\n"
     ]
    },
    {
     "data": {
      "text/html": [
       "        <script type=\"text/javascript\">\n",
       "        window.PlotlyConfig = {MathJaxConfig: 'local'};\n",
       "        if (window.MathJax) {MathJax.Hub.Config({SVG: {font: \"STIX-Web\"}});}\n",
       "        if (typeof require !== 'undefined') {\n",
       "        require.undef(\"plotly\");\n",
       "        requirejs.config({\n",
       "            paths: {\n",
       "                'plotly': ['https://cdn.plot.ly/plotly-latest.min']\n",
       "            }\n",
       "        });\n",
       "        require(['plotly'], function(Plotly) {\n",
       "            window._Plotly = Plotly;\n",
       "        });\n",
       "        }\n",
       "        </script>\n",
       "        "
      ]
     },
     "metadata": {},
     "output_type": "display_data"
    }
   ],
   "source": [
    "##### BÁSICAS ######\n",
    "import numpy as np\n",
    "import pandas as pd\n",
    "\n",
    "##### PIPELINE Y MODELO #####\n",
    "#from xgboost.sklearn import XGBClassifier\n",
    "from sklearn.feature_extraction.text import CountVectorizer, TfidfVectorizer\n",
    "from nltk.corpus import stopwords\n",
    "from sklearn.preprocessing import MinMaxScaler,StandardScaler\n",
    "from sklearn.neural_network import MLPClassifier\n",
    "from sklearn.model_selection import train_test_split, cross_val_score\n",
    "from sklearn.linear_model import LogisticRegression\n",
    "from sklearn.svm import SVC\n",
    "from sklearn.pipeline import Pipeline\n",
    "from sklearn.impute import SimpleImputer\n",
    "from sklearn.preprocessing import OneHotEncoder\n",
    "from sklearn.model_selection import RandomizedSearchCV\n",
    "from sklearn import set_config\n",
    "\n",
    "##### FEATURE SELECTION #####\n",
    "from varclushi import VarClusHi\n",
    "from sklearn.feature_selection import SelectKBest, f_classif\n",
    "\n",
    "#### AUXILIARES #####\n",
    "from geopy import distance\n",
    "from datetime import datetime,timedelta\n",
    "from tqdm.auto import tqdm\n",
    "tqdm.pandas()\n",
    "from geopy.geocoders import Nominatim\n",
    "locator = Nominatim(user_agent=\"myGeocoder\")\n",
    "\n",
    "pd.set_option('display.float_format', lambda x: '%.4f' % x)\n",
    "pd.set_option('display.max_columns', 50)\n",
    "#set_config(display='diagram')\n",
    "\n",
    "##### VISUALIZACIÓN #####\n",
    "import cufflinks as cf\n",
    "import matplotlib.pyplot as plt\n",
    "cf.go_offline()"
   ]
  },
  {
   "cell_type": "markdown",
   "metadata": {
    "id": "gaZV2JYy6VS-"
   },
   "source": [
    "### Funciones relevantes"
   ]
  },
  {
   "cell_type": "code",
   "execution_count": 2,
   "metadata": {},
   "outputs": [],
   "source": [
    "def tipo_datos(df):\n",
    "    data = df.copy() \n",
    "    data['occurance'] = data.occurance.str.replace('24:00', '00:00')\n",
    "    data['occurance'] = pd.to_datetime(data['occurance'], format='%m/%d/%Y %H:%M')\n",
    "    data['report_date'] = pd.to_datetime(data['report_date'], format='%m/%d/%Y', errors='coerce')\n",
    "    data['dseconds'] = pd.to_numeric(data['dseconds'], errors = 'coerce')\n",
    "    data['dseconds'] = pd.to_numeric(data['dseconds'], errors = 'coerce')\n",
    "    data['lat'] = pd.to_numeric(data['lat'], errors = 'coerce')\n",
    "    data['long'] = pd.to_numeric(data['long'], errors = 'coerce')\n",
    "    return data\n",
    "def missings(df):\n",
    "    data = df.copy()\n",
    "    data.drop(data[data.duration.isnull()].index, inplace = True)\n",
    "    data.drop(data[data.dseconds.isnull()].index, inplace = True)\n",
    "    data.drop(data[data.lat.isnull()].index, inplace = True)\n",
    "    data.drop(data[data.ufoshape.isnull()].index, inplace = True)\n",
    "    data['country'] = data['country'].fillna('ND')\n",
    "    data['citystate'] = data['citystate'].fillna('ND')\n",
    "    data['description'] = data['description'].fillna('-')\n",
    "    return data\n",
    "def feature_engineering(df,cut_normalize:float=0.005):\n",
    "    data = df.copy()\n",
    "    data['country'] = data['country'].apply(lambda x: 'OTRO' if x in ['ca','gb','au','de'] else x)\n",
    "    aux = (data.ufoshape.value_counts(1)<cut_normalize).to_frame()\n",
    "    ls_ufoshape_normalize = aux[aux.ufoshape==True].index.tolist()\n",
    "    data['ufoshape'] = data.ufoshape.apply(lambda x: 'unpopular' if x in ls_ufoshape_normalize else x)\n",
    "    data['day_occ'] = data['occurance'].dt.day\n",
    "    data['weekday_occ'] = data['occurance'].dt.weekday\n",
    "    data['month_occ'] = data['occurance'].dt.month\n",
    "    data['year_occ'] = data['occurance'].dt.year\n",
    "    data['year_week_occ'] = data['occurance'].apply(lambda x: x.strftime('%Y-%W'))\n",
    "    data['hour_occ'] = data.occurance.apply(lambda x: x.strftime('%H'))\n",
    "    data['occurance'] = data['occurance'].apply(lambda x: datetime(x.year,x.month,x.day))\n",
    "    data['days_toreport'] = list(map(lambda x,y: (x-y).days,data['report_date'],data['occurance']))\n",
    "    data = data[data.days_toreport>=0].reset_index(drop=True).copy()\n",
    "    data['n_words'] = data.description.apply(lambda x: len(x.split(' ')))\n",
    "    data['n_letrers'] = data.description.apply(lambda x: len(x))\n",
    "    return data\n",
    "def get_bounds(x,q_down:float=0.05,q_up:float=0.95,factor:float=1.5):\n",
    "    '''Obtener intervalo de aceptación para no considerar outliers'''\n",
    "    q3 = x.quantile(q_up)\n",
    "    q1 = x.quantile(q_down)\n",
    "    iqr = q3 - q1\n",
    "    lb = q1 - factor*iqr\n",
    "    ub = q3 + factor*iqr\n",
    "    return pd.Interval(lb, ub, closed=\"both\")\n",
    "\n",
    "def outliers(df,columnas_continuas:list=[\"dseconds\",\"days_toreport\"]):\n",
    "    data = df.copy()\n",
    "    dc_out = {feat: get_bounds(data[feat]) for feat in columnas_continuas}\n",
    "    for col in columnas_continuas:\n",
    "        data[f\"ol_{col}\"] = data[col].map(lambda x: x not in dc_out[col]).astype(int)\n",
    "    data[\"ol\"] = data[[x for x in data.columns if x.startswith(\"ol\")]].mean(axis=1)\n",
    "    data[\"ol\"].describe([0.9, 0.95, 0.96, 0.97, 0.98, 0.99])\n",
    "    data = data[data[\"ol\"]<=0.3].drop(columns=[x for x in data.columns if x.startswith(\"ol\")])\n",
    "    return data \n",
    "\n",
    "def create_tad(df):\n",
    "    data = df.copy()\n",
    "    data['year_month_occ'] = data.occurance.apply(lambda x: x.strftime('%Y-%m'))\n",
    "    agg_func = {'dseconds':['median','std'],'days_toreport':['median']}\n",
    "    desc_columns = [x for x in data.columns if x.startswith('word')]\n",
    "    agg_func.update(dict(zip(desc_columns,['sum']*len(desc_columns))))   \n",
    "    ohe_fts = [x for x in data.columns if x.startswith('word') or x.startswith('country') or x.startswith('hour')]\n",
    "    agg_func.update(dict(zip(ohe_fts,['sum']*len(ohe_fts))))   \n",
    "    ohe_fts = [x for x in data.columns if x.startswith('month') or x.startswith('weekday')]\n",
    "    agg_func.update(dict(zip(ohe_fts,['max']*len(ohe_fts))))   \n",
    "    agg_func.update({'year_month_occ':['min','max']})\n",
    "    tad = data.groupby(['year_week_occ','ufoshape']).agg(agg_func).reset_index()\n",
    "    tad.columns = ['_'.join(x) if x[1]!='' else x[0] for x in tad.columns]\n",
    "    primer_fecha = tad.year_month_occ_min.min()\n",
    "    ultima_fecha = tad.year_month_occ_max.max()\n",
    "    rango_fechas = pd.date_range(primer_fecha,ultima_fecha,freq='W').strftime('%Y-%W')\n",
    "    tad.drop(columns=['year_month_occ_min','year_month_occ_max'],inplace=True)\n",
    "    ls_dfs = []\n",
    "    for shape in data.ufoshape.unique():\n",
    "        aux = tad[tad.ufoshape==shape].copy()\n",
    "        aux['y'] = 1\n",
    "        aux_missing = pd.DataFrame({'year_week_occ':[x for x in rango_fechas if x not in aux.year_week_occ.tolist()]})\n",
    "        if len(aux_missing)>0:\n",
    "            aux_missing['y'] = 0\n",
    "        aux = aux.append(aux_missing)\n",
    "        aux['ufoshape'] = shape\n",
    "        aux['y'] = aux['y'].shift(-1)\n",
    "        aux.dropna(subset=['y'],inplace=True)\n",
    "        aux[[x for x in aux.columns if x not in ['year_week_occ','ufoshape']]] = aux[[x for x in aux.columns if x not in ['year_week_occ','ufoshape']]].fillna(0)\n",
    "        ls_dfs.append(aux)\n",
    "    tad = pd.concat(ls_dfs,sort=False).sort_values(by=['ufoshape','year_week_occ']).reset_index(drop=True)\n",
    "    tad.dropna(inplace=True)\n",
    "    return tad,tad[['y']]\n",
    "\n",
    "def escalamiento(df):\n",
    "    data = df.copy()\n",
    "    y = data[[\"y\"]]\n",
    "    mm = MinMaxScaler()\n",
    "    X = data.drop(columns = [\"y\",'year_week_occ','ufoshape'], axis = 1)\n",
    "    mm.fit(X)\n",
    "    Xmm = pd.DataFrame(index = X.index, data = mm.transform(X), columns=X.columns) \n",
    "    return Xmm\n",
    "\n",
    "def feature_selection(df,y,clusters:int=10,selection:str='kbest',n_features:int=20):\n",
    "    print('Feature selection')\n",
    "    data = df.copy()\n",
    "    if selection == 'varclushi':\n",
    "        vc = VarClusHi(df=data, feat_list=data.columns,maxclus=n_features)\n",
    "        vc.varclus()\n",
    "        res = vc.rsquare.sort_values(by=[\"Cluster\", \"RS_Ratio\"]).groupby([\"Cluster\"]).first()\n",
    "        bf = [x for x in res[\"Variable\"]]\n",
    "    elif selection == 'kbest':\n",
    "        kb = SelectKBest(k=\"all\")\n",
    "        kb.fit(data, y)\n",
    "        kb_scores = pd.DataFrame({'variable':data.columns,'score':kb.scores_})\n",
    "        kb_scores = kb_scores.sort_values(by='score').reset_index(drop=True).dropna()\n",
    "        bf = [x for x in kb_scores[\"variable\"].tail(n_features)]\n",
    "    return bf\n",
    "def classification_metrics(X, y, model,pipe=None,scores:tuple=('roc_auc')):\n",
    "    '''Medir performance del modelo'''\n",
    "    if pipe:\n",
    "        pipe = Pipeline(pipe.steps + [(\"model\", model)])\n",
    "    else:\n",
    "        pipe = Pipeline([(\"model\", model)])\n",
    "    ls_scores = cross_val_score(estimator=pipe, X=X, y=y, scoring=scores, n_jobs=-1, cv=4)\n",
    "    print(f\"Media: {np.mean(ls_scores):,.2f}, STD: {np.std(ls_scores)}\")\n",
    "    \n",
    "\n",
    "def hyperparam_logistic(X, y, pipe=None):\n",
    "    if pipe:\n",
    "        pipe = Pipeline(pipe.steps + [(\"model\", LogisticRegression())])\n",
    "    else:\n",
    "        pipe = Pipeline([(\"model\", LogisticRegression())])\n",
    "    param_grid = {\"model__penalty\": [\"l1\", \"l2\"],\n",
    "                \"model__C\": [x/100 for x in range(100)]+[0],\n",
    "                \"model__class_weight\": [\"balanced\", None],\n",
    "                \"model__solver\": ['newton-cg', 'lbfgs', 'liblinear', 'sag', 'saga']\n",
    "                }\n",
    "    hp = RandomizedSearchCV(cv=4, \n",
    "                          param_distributions=param_grid,\n",
    "                          n_iter=150,\n",
    "                          scoring=\"roc_auc\", \n",
    "                          verbose=10,\n",
    "                          error_score=-1000, \n",
    "                          estimator=pipe, \n",
    "                          n_jobs=-1,\n",
    "                          random_state=0)\n",
    "    hp.fit(X=X, y = y)\n",
    "    print(f\"ROC: {hp.best_score_:,.2f}\")\n",
    "    return hp\n",
    "\n",
    "def hyperparam_neural(X, y, pipe=None):\n",
    "    if pipe:\n",
    "        pipe = Pipeline(pipe.steps + [(\"model\", MLPClassifier())])\n",
    "    else:\n",
    "        pipe = Pipeline([(\"model\", MLPClassifier())])\n",
    "    param_grid = {\"model__hidden_layer_sizes\": [(a,b,c,) for a in range(10,60,10) for b in range(10,60,10) for c in range(10,60,10)],\n",
    "                \"model__activation\": ['logistic', 'tanh', 'relu'],\n",
    "                \"model__solver\": ['lbfgs', 'sgd', 'adam'],\n",
    "                \"model__alpha\": np.arange(0.01,1,0.01),\n",
    "                \"model__learning_rate\": ['constant', 'invscaling', 'adaptive'],\n",
    "                }\n",
    "    hp = RandomizedSearchCV(cv=4, \n",
    "                          param_distributions=param_grid,\n",
    "                          n_iter=150,\n",
    "                          scoring=\"roc_auc\", \n",
    "                          verbose=10,\n",
    "                          error_score=-1000, \n",
    "                          estimator=pipe, \n",
    "                          n_jobs=-1,\n",
    "                          random_state=0)\n",
    "    hp.fit(X=X, y = y)\n",
    "    print(f\"ROC: {hp.best_score_:,.2f}\")\n",
    "    return hp\n",
    "\n",
    "def hyperparam_svc(X, y, pipe=None):\n",
    "    if pipe:\n",
    "        pipe = Pipeline(pipe.steps + [(\"model\", SVC())])\n",
    "    else:\n",
    "        pipe = Pipeline([(\"model\", SVC())])\n",
    "    param_grid = {\"model__C\": np.arange(0.1,2,0.1),\n",
    "                \"model__kernel\": ['linear', 'rbf', 'sigmoid','poly'],\n",
    "                \"model__degree\": range(2,5),\n",
    "                \"model__probability\": [True],\n",
    "                }\n",
    "    hp = RandomizedSearchCV(cv=4, \n",
    "                          param_distributions=param_grid,\n",
    "                          n_iter=150,\n",
    "                          scoring=\"roc_auc\", \n",
    "                          verbose=10,\n",
    "                          error_score=-1000, \n",
    "                          estimator=pipe, \n",
    "                          n_jobs=-1,\n",
    "                          random_state=0)\n",
    "    hp.fit(X=X, y = y)\n",
    "    print(f\"ROC: {hp.best_score_:,.2f}\")\n",
    "    return hp"
   ]
  },
  {
   "cell_type": "markdown",
   "metadata": {},
   "source": [
    "#### Visualizaciones"
   ]
  },
  {
   "cell_type": "code",
   "execution_count": 3,
   "metadata": {},
   "outputs": [],
   "source": [
    "def bar_periods(df,columna,title):\n",
    "    aux = df[columna].value_counts().to_frame().sort_index()\n",
    "    plt.subplots(figsize=(18,8))\n",
    "    plt.title(title)\n",
    "    aux[columna].plot(kind='bar', color='violet')\n",
    "    plt.xticks(rotation=90, fontsize=15)\n",
    "    plt.show()"
   ]
  },
  {
   "cell_type": "markdown",
   "metadata": {
    "id": "0-QVHAEu6VTA"
   },
   "source": [
    "## Data Wrangling"
   ]
  },
  {
   "cell_type": "markdown",
   "metadata": {
    "id": "DawBZojY6VTA"
   },
   "source": [
    "### Lectura de datos"
   ]
  },
  {
   "cell_type": "code",
   "execution_count": 4,
   "metadata": {
    "colab": {
     "base_uri": "https://localhost:8080/",
     "height": 285
    },
    "id": "_tG-c1r_AYHU",
    "outputId": "3785f4af-086c-4106-c4d1-6ba519fc773c"
   },
   "outputs": [
    {
     "data": {
      "text/html": [
       "<div>\n",
       "<style scoped>\n",
       "    .dataframe tbody tr th:only-of-type {\n",
       "        vertical-align: middle;\n",
       "    }\n",
       "\n",
       "    .dataframe tbody tr th {\n",
       "        vertical-align: top;\n",
       "    }\n",
       "\n",
       "    .dataframe thead th {\n",
       "        text-align: right;\n",
       "    }\n",
       "</style>\n",
       "<table border=\"1\" class=\"dataframe\">\n",
       "  <thead>\n",
       "    <tr style=\"text-align: right;\">\n",
       "      <th></th>\n",
       "      <th>occurance</th>\n",
       "      <th>city</th>\n",
       "      <th>citystate</th>\n",
       "      <th>country</th>\n",
       "      <th>ufoshape</th>\n",
       "      <th>dseconds</th>\n",
       "      <th>duration</th>\n",
       "      <th>description</th>\n",
       "      <th>report_date</th>\n",
       "      <th>lat</th>\n",
       "      <th>long</th>\n",
       "    </tr>\n",
       "  </thead>\n",
       "  <tbody>\n",
       "    <tr>\n",
       "      <th>1</th>\n",
       "      <td>10/10/1949 20:30</td>\n",
       "      <td>san marcos</td>\n",
       "      <td>tx</td>\n",
       "      <td>us</td>\n",
       "      <td>cylinder</td>\n",
       "      <td>2700</td>\n",
       "      <td>45 minutes</td>\n",
       "      <td>This event took place in early fall around 194...</td>\n",
       "      <td>4/27/2004</td>\n",
       "      <td>29.8830556</td>\n",
       "      <td>-97.9411111</td>\n",
       "    </tr>\n",
       "    <tr>\n",
       "      <th>2</th>\n",
       "      <td>10/10/1949 21:00</td>\n",
       "      <td>lackland afb</td>\n",
       "      <td>tx</td>\n",
       "      <td>NaN</td>\n",
       "      <td>light</td>\n",
       "      <td>7200</td>\n",
       "      <td>1-2 hrs</td>\n",
       "      <td>1949 Lackland AFB&amp;#44 TX.  Lights racing acros...</td>\n",
       "      <td>12/16/2005</td>\n",
       "      <td>29.38421</td>\n",
       "      <td>-98.581082</td>\n",
       "    </tr>\n",
       "    <tr>\n",
       "      <th>3</th>\n",
       "      <td>10/10/1955 17:00</td>\n",
       "      <td>chester (uk/england)</td>\n",
       "      <td>NaN</td>\n",
       "      <td>gb</td>\n",
       "      <td>circle</td>\n",
       "      <td>20</td>\n",
       "      <td>20 seconds</td>\n",
       "      <td>Green/Orange circular disc over Chester&amp;#44 En...</td>\n",
       "      <td>1/21/2008</td>\n",
       "      <td>53.2</td>\n",
       "      <td>-2.916667</td>\n",
       "    </tr>\n",
       "    <tr>\n",
       "      <th>4</th>\n",
       "      <td>10/10/1956 21:00</td>\n",
       "      <td>edna</td>\n",
       "      <td>tx</td>\n",
       "      <td>us</td>\n",
       "      <td>circle</td>\n",
       "      <td>20</td>\n",
       "      <td>1/2 hour</td>\n",
       "      <td>My older brother and twin sister were leaving ...</td>\n",
       "      <td>1/17/2004</td>\n",
       "      <td>28.9783333</td>\n",
       "      <td>-96.6458333</td>\n",
       "    </tr>\n",
       "    <tr>\n",
       "      <th>5</th>\n",
       "      <td>10/10/1960 20:00</td>\n",
       "      <td>kaneohe</td>\n",
       "      <td>hi</td>\n",
       "      <td>us</td>\n",
       "      <td>light</td>\n",
       "      <td>900</td>\n",
       "      <td>15 minutes</td>\n",
       "      <td>AS a Marine 1st Lt. flying an FJ4B fighter/att...</td>\n",
       "      <td>1/22/2004</td>\n",
       "      <td>21.4180556</td>\n",
       "      <td>-157.8036111</td>\n",
       "    </tr>\n",
       "  </tbody>\n",
       "</table>\n",
       "</div>"
      ],
      "text/plain": [
       "          occurance                  city citystate country  ufoshape  \\\n",
       "1  10/10/1949 20:30            san marcos        tx      us  cylinder   \n",
       "2  10/10/1949 21:00          lackland afb        tx     NaN     light   \n",
       "3  10/10/1955 17:00  chester (uk/england)       NaN      gb    circle   \n",
       "4  10/10/1956 21:00                  edna        tx      us    circle   \n",
       "5  10/10/1960 20:00               kaneohe        hi      us     light   \n",
       "\n",
       "  dseconds    duration                                        description  \\\n",
       "1     2700  45 minutes  This event took place in early fall around 194...   \n",
       "2     7200     1-2 hrs  1949 Lackland AFB&#44 TX.  Lights racing acros...   \n",
       "3       20  20 seconds  Green/Orange circular disc over Chester&#44 En...   \n",
       "4       20    1/2 hour  My older brother and twin sister were leaving ...   \n",
       "5      900  15 minutes  AS a Marine 1st Lt. flying an FJ4B fighter/att...   \n",
       "\n",
       "  report_date         lat          long  \n",
       "1   4/27/2004  29.8830556   -97.9411111  \n",
       "2  12/16/2005    29.38421    -98.581082  \n",
       "3   1/21/2008        53.2     -2.916667  \n",
       "4   1/17/2004  28.9783333   -96.6458333  \n",
       "5   1/22/2004  21.4180556  -157.8036111  "
      ]
     },
     "execution_count": 4,
     "metadata": {},
     "output_type": "execute_result"
    }
   ],
   "source": [
    "columns = ['occurance', 'city', 'citystate', 'country', 'ufoshape', 'dseconds', 'duration', 'description', 'report_date', 'lat','long']\n",
    "ufo_data = pd.read_csv('../datos/ufo_data.csv', sep=',', names =columns, low_memory=False)\n",
    "data = ufo_data.copy()\n",
    "data = data.drop(0, axis=0)\n",
    "data.head(5)"
   ]
  },
  {
   "cell_type": "markdown",
   "metadata": {},
   "source": [
    "### Ingeniería de datos"
   ]
  },
  {
   "cell_type": "code",
   "execution_count": 5,
   "metadata": {
    "colab": {
     "base_uri": "https://localhost:8080/"
    },
    "id": "FqFfFXD46VTB",
    "outputId": "dc51e976-5309-48c2-8a3d-bbba7df6c055"
   },
   "outputs": [
    {
     "name": "stdout",
     "output_type": "stream",
     "text": [
      "<class 'pandas.core.frame.DataFrame'>\n",
      "Int64Index: 88875 entries, 1 to 88875\n",
      "Data columns (total 11 columns):\n",
      " #   Column       Non-Null Count  Dtype \n",
      "---  ------       --------------  ----- \n",
      " 0   occurance    88875 non-null  object\n",
      " 1   city         88679 non-null  object\n",
      " 2   citystate    81356 non-null  object\n",
      " 3   country      76314 non-null  object\n",
      " 4   ufoshape     85757 non-null  object\n",
      " 5   dseconds     88873 non-null  object\n",
      " 6   duration     85772 non-null  object\n",
      " 7   description  88749 non-null  object\n",
      " 8   report_date  88875 non-null  object\n",
      " 9   lat          88875 non-null  object\n",
      " 10  long         88875 non-null  object\n",
      "dtypes: object(11)\n",
      "memory usage: 8.1+ MB\n"
     ]
    }
   ],
   "source": [
    "data.info()"
   ]
  },
  {
   "cell_type": "markdown",
   "metadata": {
    "id": "OB7bNoLl6VTB"
   },
   "source": [
    "Se observan nulos entre las variables city-description\n",
    "\n",
    "Además, todas las variables son tipo objeto"
   ]
  },
  {
   "cell_type": "markdown",
   "metadata": {
    "id": "_WVZaGW86VTB"
   },
   "source": [
    "#### Transformación de tipo de dato"
   ]
  },
  {
   "cell_type": "code",
   "execution_count": 6,
   "metadata": {
    "id": "UJaB7VxZ6VTC"
   },
   "outputs": [],
   "source": [
    "data_processing = data.copy() \n",
    "data_processing = tipo_datos(data_processing)"
   ]
  },
  {
   "cell_type": "markdown",
   "metadata": {
    "id": "FGQgvKm76VTD"
   },
   "source": [
    "#### Valores ausentes (missings)"
   ]
  },
  {
   "cell_type": "code",
   "execution_count": 7,
   "metadata": {
    "colab": {
     "base_uri": "https://localhost:8080/"
    },
    "id": "29NEQxny6VTD",
    "outputId": "5476beeb-d58b-4e1d-c15f-4ea4cd291bfe"
   },
   "outputs": [
    {
     "data": {
      "text/plain": [
       "occurance     0.0000\n",
       "city          0.0022\n",
       "citystate     0.0846\n",
       "country       0.1413\n",
       "ufoshape      0.0351\n",
       "dseconds      0.0001\n",
       "duration      0.0349\n",
       "description   0.0014\n",
       "report_date   0.0022\n",
       "lat           0.0022\n",
       "long          0.0000\n",
       "dtype: float64"
      ]
     },
     "execution_count": 7,
     "metadata": {},
     "output_type": "execute_result"
    }
   ],
   "source": [
    "#data.isna().mean()\n",
    "data_processing.isnull().sum()/data_processing.shape[0]"
   ]
  },
  {
   "cell_type": "code",
   "execution_count": 8,
   "metadata": {
    "id": "fALZ_BpYcCBI"
   },
   "outputs": [],
   "source": [
    "data_processing = missings(data_processing)"
   ]
  },
  {
   "cell_type": "markdown",
   "metadata": {},
   "source": [
    "* Borraremos la duración, dseconfs, latitud, longitud y ufoshape que vengan nulos\n",
    "* Con el primer experimento podemos hacer una imputación de los hulos para ufo_shape\n",
    "* Description, country y citystate se ponen como ND"
   ]
  },
  {
   "cell_type": "code",
   "execution_count": 9,
   "metadata": {
    "colab": {
     "base_uri": "https://localhost:8080/"
    },
    "id": "zihOtZeRd6wr",
    "outputId": "d6291634-7bdd-47d4-d9a8-d50587e1571c"
   },
   "outputs": [
    {
     "data": {
      "text/plain": [
       "occurance     0.0000\n",
       "city          0.0000\n",
       "citystate     0.0000\n",
       "country       0.0000\n",
       "ufoshape      0.0000\n",
       "dseconds      0.0000\n",
       "duration      0.0000\n",
       "description   0.0000\n",
       "report_date   0.0000\n",
       "lat           0.0000\n",
       "long          0.0000\n",
       "dtype: float64"
      ]
     },
     "execution_count": 9,
     "metadata": {},
     "output_type": "execute_result"
    }
   ],
   "source": [
    "data_processing.isnull().sum()/data_processing.shape[0]"
   ]
  },
  {
   "cell_type": "code",
   "execution_count": 10,
   "metadata": {
    "colab": {
     "base_uri": "https://localhost:8080/"
    },
    "id": "hBV_P7nCsCVp",
    "outputId": "d376150d-6c38-420d-d637-72f1360ab3e1"
   },
   "outputs": [
    {
     "data": {
      "text/plain": [
       "0.9396118143459916"
      ]
     },
     "execution_count": 10,
     "metadata": {},
     "output_type": "execute_result"
    }
   ],
   "source": [
    "data_processing.shape[0]/data.shape[0]"
   ]
  },
  {
   "cell_type": "markdown",
   "metadata": {
    "id": "46qPAs-v6VTE"
   },
   "source": [
    "### Análisis Univariado Continuo"
   ]
  },
  {
   "cell_type": "code",
   "execution_count": 11,
   "metadata": {
    "id": "yZzswMSf6VTE"
   },
   "outputs": [],
   "source": [
    "data_processing['dseconds'] = data_processing['dseconds'].astype(np.int32)"
   ]
  },
  {
   "cell_type": "code",
   "execution_count": 12,
   "metadata": {
    "id": "DFW6JHfE6VTE"
   },
   "outputs": [],
   "source": [
    "ls_cont = [\"dseconds\", \"lat\", \"long\"]"
   ]
  },
  {
   "cell_type": "code",
   "execution_count": 13,
   "metadata": {
    "colab": {
     "base_uri": "https://localhost:8080/",
     "height": 348
    },
    "id": "V_xR6THE6VTF",
    "outputId": "66d92228-40f9-4d6b-8064-0595f6ec4237"
   },
   "outputs": [
    {
     "data": {
      "text/html": [
       "<div>\n",
       "<style scoped>\n",
       "    .dataframe tbody tr th:only-of-type {\n",
       "        vertical-align: middle;\n",
       "    }\n",
       "\n",
       "    .dataframe tbody tr th {\n",
       "        vertical-align: top;\n",
       "    }\n",
       "\n",
       "    .dataframe thead th {\n",
       "        text-align: right;\n",
       "    }\n",
       "</style>\n",
       "<table border=\"1\" class=\"dataframe\">\n",
       "  <thead>\n",
       "    <tr style=\"text-align: right;\">\n",
       "      <th></th>\n",
       "      <th>dseconds</th>\n",
       "      <th>lat</th>\n",
       "      <th>long</th>\n",
       "    </tr>\n",
       "  </thead>\n",
       "  <tbody>\n",
       "    <tr>\n",
       "      <th>count</th>\n",
       "      <td>83508.0000</td>\n",
       "      <td>83508.0000</td>\n",
       "      <td>83508.0000</td>\n",
       "    </tr>\n",
       "    <tr>\n",
       "      <th>mean</th>\n",
       "      <td>7744.2503</td>\n",
       "      <td>37.4519</td>\n",
       "      <td>-85.0800</td>\n",
       "    </tr>\n",
       "    <tr>\n",
       "      <th>std</th>\n",
       "      <td>578875.3714</td>\n",
       "      <td>11.5071</td>\n",
       "      <td>41.1110</td>\n",
       "    </tr>\n",
       "    <tr>\n",
       "      <th>min</th>\n",
       "      <td>0.0000</td>\n",
       "      <td>-82.8628</td>\n",
       "      <td>-176.6581</td>\n",
       "    </tr>\n",
       "    <tr>\n",
       "      <th>1%</th>\n",
       "      <td>0.0000</td>\n",
       "      <td>-26.2109</td>\n",
       "      <td>-125.0000</td>\n",
       "    </tr>\n",
       "    <tr>\n",
       "      <th>5%</th>\n",
       "      <td>1.0000</td>\n",
       "      <td>25.9699</td>\n",
       "      <td>-122.5113</td>\n",
       "    </tr>\n",
       "    <tr>\n",
       "      <th>50%</th>\n",
       "      <td>180.0000</td>\n",
       "      <td>39.1961</td>\n",
       "      <td>-87.6500</td>\n",
       "    </tr>\n",
       "    <tr>\n",
       "      <th>95%</th>\n",
       "      <td>3600.0000</td>\n",
       "      <td>49.8833</td>\n",
       "      <td>0.0000</td>\n",
       "    </tr>\n",
       "    <tr>\n",
       "      <th>99%</th>\n",
       "      <td>14400.0000</td>\n",
       "      <td>55.2500</td>\n",
       "      <td>120.9711</td>\n",
       "    </tr>\n",
       "    <tr>\n",
       "      <th>max</th>\n",
       "      <td>97836000.0000</td>\n",
       "      <td>72.7000</td>\n",
       "      <td>178.4419</td>\n",
       "    </tr>\n",
       "  </tbody>\n",
       "</table>\n",
       "</div>"
      ],
      "text/plain": [
       "           dseconds        lat       long\n",
       "count    83508.0000 83508.0000 83508.0000\n",
       "mean      7744.2503    37.4519   -85.0800\n",
       "std     578875.3714    11.5071    41.1110\n",
       "min          0.0000   -82.8628  -176.6581\n",
       "1%           0.0000   -26.2109  -125.0000\n",
       "5%           1.0000    25.9699  -122.5113\n",
       "50%        180.0000    39.1961   -87.6500\n",
       "95%       3600.0000    49.8833     0.0000\n",
       "99%      14400.0000    55.2500   120.9711\n",
       "max   97836000.0000    72.7000   178.4419"
      ]
     },
     "execution_count": 13,
     "metadata": {},
     "output_type": "execute_result"
    }
   ],
   "source": [
    "data_processing[ls_cont].describe(percentiles=[0.01, 0.05, 0.95, 0.99])"
   ]
  },
  {
   "cell_type": "markdown",
   "metadata": {},
   "source": [
    "* Longitud y latitud están entre los rangos correctos (-180,180), (-90,90)"
   ]
  },
  {
   "cell_type": "markdown",
   "metadata": {},
   "source": [
    "* Se observan valores 0 y muy grandes para dseconds\n",
    "* Se obtienen variables por day, weekday, month and year"
   ]
  },
  {
   "cell_type": "code",
   "execution_count": 14,
   "metadata": {
    "id": "aNoEMXRI6VTF"
   },
   "outputs": [],
   "source": [
    "data_processing = feature_engineering(data_processing)"
   ]
  },
  {
   "cell_type": "code",
   "execution_count": 15,
   "metadata": {},
   "outputs": [
    {
     "data": {
      "image/png": "[encoded data removed]",
      "text/plain": [
       "<Figure size 1296x576 with 1 Axes>"
      ]
     },
     "metadata": {
      "needs_background": "light"
     },
     "output_type": "display_data"
    }
   ],
   "source": [
    "bar_periods(data_processing,'day_occ','Day')"
   ]
  },
  {
   "cell_type": "markdown",
   "metadata": {},
   "source": [
    "Días del mes con más frecuencia 15"
   ]
  },
  {
   "cell_type": "code",
   "execution_count": 16,
   "metadata": {},
   "outputs": [
    {
     "data": {
      "image/png": "[encoded data removed]",
      "text/plain": [
       "<Figure size 1296x576 with 1 Axes>"
      ]
     },
     "metadata": {
      "needs_background": "light"
     },
     "output_type": "display_data"
    }
   ],
   "source": [
    "bar_periods(data_processing,'weekday_occ','Weekday')"
   ]
  },
  {
   "cell_type": "markdown",
   "metadata": {},
   "source": [
    "Sábados es más frecuente"
   ]
  },
  {
   "cell_type": "code",
   "execution_count": 17,
   "metadata": {},
   "outputs": [
    {
     "data": {
      "image/png": "[encoded data removed]",
      "text/plain": [
       "<Figure size 1296x576 with 1 Axes>"
      ]
     },
     "metadata": {
      "needs_background": "light"
     },
     "output_type": "display_data"
    }
   ],
   "source": [
    "bar_periods(data_processing,'month_occ','Month')"
   ]
  },
  {
   "cell_type": "markdown",
   "metadata": {},
   "source": [
    "En julio"
   ]
  },
  {
   "cell_type": "code",
   "execution_count": 18,
   "metadata": {},
   "outputs": [
    {
     "data": {
      "image/png": "[encoded data removed]",
      "text/plain": [
       "<Figure size 1296x576 with 1 Axes>"
      ]
     },
     "metadata": {
      "needs_background": "light"
     },
     "output_type": "display_data"
    }
   ],
   "source": [
    "bar_periods(data_processing,'year_occ','Year')"
   ]
  },
  {
   "cell_type": "markdown",
   "metadata": {},
   "source": [
    "Se han estado registrado cada vez más UFO"
   ]
  },
  {
   "cell_type": "code",
   "execution_count": 19,
   "metadata": {},
   "outputs": [
    {
     "data": {
      "image/png": "[encoded data removed]",
      "text/plain": [
       "<Figure size 1296x576 with 1 Axes>"
      ]
     },
     "metadata": {
      "needs_background": "light"
     },
     "output_type": "display_data"
    }
   ],
   "source": [
    "aux = data_processing.copy()\n",
    "aux['year_month_occ'] = aux['occurance'].apply(lambda x: x.strftime('%Y-%m'))\n",
    "aux = aux[aux.year_month_occ>='2010-01'].copy()\n",
    "bar_periods(aux,'year_month_occ','Año mes')"
   ]
  },
  {
   "cell_type": "code",
   "execution_count": 20,
   "metadata": {},
   "outputs": [
    {
     "data": {
      "image/png": "[encoded data removed]",
      "text/plain": [
       "<Figure size 1296x576 with 1 Axes>"
      ]
     },
     "metadata": {
      "needs_background": "light"
     },
     "output_type": "display_data"
    }
   ],
   "source": [
    "bar_periods(data_processing,'hour_occ','Año mes')"
   ]
  },
  {
   "cell_type": "markdown",
   "metadata": {
    "id": "UI1sslJi6VTG"
   },
   "source": [
    "### Valores extremos (outliers)"
   ]
  },
  {
   "cell_type": "code",
   "execution_count": 21,
   "metadata": {},
   "outputs": [
    {
     "data": {
      "text/plain": [
       "Index(['occurance', 'city', 'citystate', 'country', 'ufoshape', 'dseconds',\n",
       "       'duration', 'description', 'report_date', 'lat', 'long'],\n",
       "      dtype='object')"
      ]
     },
     "execution_count": 21,
     "metadata": {},
     "output_type": "execute_result"
    }
   ],
   "source": [
    "data.columns"
   ]
  },
  {
   "cell_type": "code",
   "execution_count": 22,
   "metadata": {
    "id": "X1nzOQPM6VTG"
   },
   "outputs": [],
   "source": [
    "data_processing = outliers(data_processing)"
   ]
  },
  {
   "cell_type": "markdown",
   "metadata": {},
   "source": [
    "Aquí notamos dseconds con outlier desde las secciones anteriores"
   ]
  },
  {
   "cell_type": "code",
   "execution_count": 23,
   "metadata": {
    "colab": {
     "base_uri": "https://localhost:8080/",
     "height": 463
    },
    "id": "emhgWV0QFhQF",
    "outputId": "89db4f0c-2849-4f68-baef-6550e5741875"
   },
   "outputs": [
    {
     "data": {
      "image/png": "[encoded data removed]",
      "text/plain": [
       "<Figure size 432x288 with 12 Axes>"
      ]
     },
     "metadata": {
      "needs_background": "light"
     },
     "output_type": "display_data"
    }
   ],
   "source": [
    "data_processing.hist();"
   ]
  },
  {
   "cell_type": "markdown",
   "metadata": {
    "id": "SaSxvhqR6VTI"
   },
   "source": [
    "### Análisis Univariado Discreto"
   ]
  },
  {
   "cell_type": "code",
   "execution_count": 24,
   "metadata": {
    "colab": {
     "base_uri": "https://localhost:8080/"
    },
    "id": "NNPx6X9z6VTI",
    "outputId": "d707a531-33a4-49f5-f547-97637f836152"
   },
   "outputs": [
    {
     "name": "stdout",
     "output_type": "stream",
     "text": [
      "<class 'pandas.core.frame.DataFrame'>\n",
      "Int64Index: 88875 entries, 1 to 88875\n",
      "Data columns (total 11 columns):\n",
      " #   Column       Non-Null Count  Dtype \n",
      "---  ------       --------------  ----- \n",
      " 0   occurance    88875 non-null  object\n",
      " 1   city         88679 non-null  object\n",
      " 2   citystate    81356 non-null  object\n",
      " 3   country      76314 non-null  object\n",
      " 4   ufoshape     85757 non-null  object\n",
      " 5   dseconds     88873 non-null  object\n",
      " 6   duration     85772 non-null  object\n",
      " 7   description  88749 non-null  object\n",
      " 8   report_date  88875 non-null  object\n",
      " 9   lat          88875 non-null  object\n",
      " 10  long         88875 non-null  object\n",
      "dtypes: object(11)\n",
      "memory usage: 10.6+ MB\n"
     ]
    }
   ],
   "source": [
    "data.info()"
   ]
  },
  {
   "cell_type": "code",
   "execution_count": 25,
   "metadata": {
    "id": "MCkvfFWz6VTI"
   },
   "outputs": [],
   "source": [
    "data.drop(columns=[\"city\", \"duration\", \"report_date\"], inplace=True)"
   ]
  },
  {
   "cell_type": "code",
   "execution_count": 26,
   "metadata": {
    "id": "O1Y3-4lc6VTI"
   },
   "outputs": [],
   "source": [
    "ls_disc = [\"citystate\", \"country\"]"
   ]
  },
  {
   "cell_type": "code",
   "execution_count": 27,
   "metadata": {
    "colab": {
     "base_uri": "https://localhost:8080/",
     "height": 963
    },
    "id": "kHu8BMsD6VTI",
    "outputId": "28a37ca5-5456-42db-b5d6-fc0d85a0d8af"
   },
   "outputs": [
    {
     "name": "stdout",
     "output_type": "stream",
     "text": [
      "***************citystate**********\n"
     ]
    },
    {
     "data": {
      "text/plain": [
       "ca   0.1284\n",
       "wa   0.0572\n",
       "fl   0.0565\n",
       "tx   0.0498\n",
       "ny   0.0432\n",
       "      ...  \n",
       "pe   0.0003\n",
       "nt   0.0003\n",
       "yt   0.0002\n",
       "yk   0.0001\n",
       "vi   0.0000\n",
       "Name: citystate, Length: 68, dtype: float64"
      ]
     },
     "metadata": {},
     "output_type": "display_data"
    },
    {
     "name": "stdout",
     "output_type": "stream",
     "text": [
      "***************country**********\n"
     ]
    },
    {
     "data": {
      "text/plain": [
       "us   0.9211\n",
       "ca   0.0428\n",
       "gb   0.0269\n",
       "au   0.0078\n",
       "de   0.0015\n",
       "Name: country, dtype: float64"
      ]
     },
     "metadata": {},
     "output_type": "display_data"
    }
   ],
   "source": [
    "for cat in ls_disc:\n",
    "    print(f\"***************{cat}**********\")\n",
    "    display(data[cat].value_counts(True))"
   ]
  },
  {
   "cell_type": "code",
   "execution_count": 28,
   "metadata": {
    "id": "5F5hINHM7zGt"
   },
   "outputs": [],
   "source": [
    "#Country por latitud/longitud google api"
   ]
  },
  {
   "cell_type": "code",
   "execution_count": 29,
   "metadata": {
    "colab": {
     "base_uri": "https://localhost:8080/"
    },
    "id": "Xw-PqDSt6VTJ",
    "outputId": "55183292-7d0c-43dc-9f9f-8476df57a70a"
   },
   "outputs": [
    {
     "data": {
      "text/plain": [
       "us      65268\n",
       "ND      11096\n",
       "OTRO     5622\n",
       "Name: country, dtype: int64"
      ]
     },
     "execution_count": 29,
     "metadata": {},
     "output_type": "execute_result"
    }
   ],
   "source": [
    "data_processing['country'].value_counts()"
   ]
  },
  {
   "cell_type": "code",
   "execution_count": 30,
   "metadata": {
    "colab": {
     "base_uri": "https://localhost:8080/",
     "height": 551
    },
    "id": "u7RtReSt6VTJ",
    "outputId": "c500ace9-9434-4a75-b848-b45cdba8a7df"
   },
   "outputs": [
    {
     "data": {
      "image/png": "[encoded data removed]",
      "text/plain": [
       "<Figure size 1296x576 with 1 Axes>"
      ]
     },
     "metadata": {
      "needs_background": "light"
     },
     "output_type": "display_data"
    }
   ],
   "source": [
    "plt.subplots(figsize=(18,8))\n",
    "plt.title(\"UFO Shape\")\n",
    "data_processing['ufoshape'].value_counts().plot(kind='bar', color='turquoise')\n",
    "plt.xticks(rotation=45, fontsize=15)\n",
    "plt.show()"
   ]
  },
  {
   "cell_type": "markdown",
   "metadata": {},
   "source": [
    "Normalizamos las variable ufoshape"
   ]
  },
  {
   "cell_type": "markdown",
   "metadata": {
    "id": "vB7TWR6_6VTK"
   },
   "source": [
    "### Encoder de discretas"
   ]
  },
  {
   "cell_type": "code",
   "execution_count": 31,
   "metadata": {},
   "outputs": [],
   "source": [
    "ls_disc = ['country','day_occ', 'weekday_occ', 'month_occ','hour_occ']"
   ]
  },
  {
   "cell_type": "code",
   "execution_count": 32,
   "metadata": {
    "id": "1dBpTbbq6VTL"
   },
   "outputs": [],
   "source": [
    "ohe = OneHotEncoder(sparse=False, handle_unknown=\"ignore\")"
   ]
  },
  {
   "cell_type": "code",
   "execution_count": 33,
   "metadata": {},
   "outputs": [
    {
     "data": {
      "text/plain": [
       "OneHotEncoder(categories='auto', drop=None, dtype=<class 'numpy.float64'>,\n",
       "              handle_unknown='ignore', sparse=False)"
      ]
     },
     "execution_count": 33,
     "metadata": {},
     "output_type": "execute_result"
    }
   ],
   "source": [
    "ohe.fit(data_processing[ls_disc])"
   ]
  },
  {
   "cell_type": "code",
   "execution_count": 34,
   "metadata": {},
   "outputs": [],
   "source": [
    "cols_ohe = [x.replace('x0','country') if x.startswith('x0') else x.replace('x1','day_occ') if x.startswith('x1') \n",
    "            else x.replace('x2','weekday_occ') if x.startswith('x2') else x.replace('x3','month_occ') if x.startswith('x3') else\n",
    "            x.replace('x4','hour_occ') for x in ohe.get_feature_names()]"
   ]
  },
  {
   "cell_type": "code",
   "execution_count": 35,
   "metadata": {
    "id": "CwWEkcwT6VTL"
   },
   "outputs": [],
   "source": [
    "data_processing[ohe.get_feature_names()] = ohe.transform(data_processing[ls_disc])\n",
    "data_processing.rename(columns=dict(zip(ohe.get_feature_names(),cols_ohe)), inplace=True)\n",
    "data_processing[[x for x in cols_ohe if x not in data_processing.columns]] = 0\n",
    "data_processing.drop(columns=ls_disc, inplace = True)"
   ]
  },
  {
   "cell_type": "code",
   "execution_count": 36,
   "metadata": {},
   "outputs": [
    {
     "data": {
      "text/plain": [
       "77"
      ]
     },
     "execution_count": 36,
     "metadata": {},
     "output_type": "execute_result"
    }
   ],
   "source": [
    "len(cols_ohe)"
   ]
  },
  {
   "cell_type": "markdown",
   "metadata": {
    "id": "bytcX3Dz6VTM"
   },
   "source": [
    "### Description"
   ]
  },
  {
   "cell_type": "code",
   "execution_count": 37,
   "metadata": {},
   "outputs": [],
   "source": [
    "cv_description = CountVectorizer(stop_words=stopwords.words(\"english\"), ngram_range=(1, 1), min_df=1, max_features=100)\n",
    "cv_description.fit(data_processing[\"description\"])\n",
    "desc = pd.DataFrame(data=cv_description.transform(data_processing[\"description\"]).todense(), columns=[f\"word_{x}\" for x in cv_description.get_feature_names()])\n",
    "data_processing = data_processing.reset_index().join(desc)\n",
    "data_processing.drop([ 'description','index'], axis=1, inplace=True)"
   ]
  },
  {
   "cell_type": "code",
   "execution_count": 38,
   "metadata": {},
   "outputs": [
    {
     "data": {
      "text/plain": [
       "[]"
      ]
     },
     "execution_count": 38,
     "metadata": {},
     "output_type": "execute_result"
    }
   ],
   "source": [
    "ls_unary = [x for x, y in data.apply(lambda x: x.nunique()).items() if y == 1]\n",
    "ls_unary"
   ]
  },
  {
   "cell_type": "markdown",
   "metadata": {},
   "source": [
    "# TAD"
   ]
  },
  {
   "cell_type": "markdown",
   "metadata": {},
   "source": [
    "## Crear variable objetivo"
   ]
  },
  {
   "cell_type": "code",
   "execution_count": 39,
   "metadata": {},
   "outputs": [],
   "source": [
    "tad,y = create_tad(data_processing)"
   ]
  },
  {
   "cell_type": "markdown",
   "metadata": {},
   "source": [
    "n_weeks = 12\n",
    "data_aux[f'occur_{n_weeks}sem'] = [rango_km(data_aux,fecha,latitud,longitud,n_weeks=n_weeks) for latitud,longitud,fecha in\n",
    "                              tqdm(zip(data_aux.lat,data_aux.long,data_aux.year_month))]\n",
    "\n",
    "import time\n",
    "import multiprocessing\n",
    "\n",
    "if __name__ == '__main__':\n",
    "    starttime = time.time()\n",
    "    processes = []\n",
    "    for latitud,longitud,fecha in tqdm(zip(data_aux.lat,data_aux.long,data_aux.year_month)):\n",
    "        p = multiprocessing.Process(target=rango_km, args=(data_aux,fecha,latitud,longitud,n_weeks))\n",
    "        processes.append(p)\n",
    "        p.start()\n",
    "        \n",
    "    for process in processes:\n",
    "        process.join()\n",
    "        \n",
    "    print()    \n",
    "    print('Time taken = {} seconds'.format(time.time() - starttime))"
   ]
  },
  {
   "cell_type": "code",
   "execution_count": 40,
   "metadata": {},
   "outputs": [
    {
     "data": {
      "text/plain": [
       "0.0000   0.7432\n",
       "1.0000   0.2568\n",
       "Name: y, dtype: float64"
      ]
     },
     "execution_count": 40,
     "metadata": {},
     "output_type": "execute_result"
    }
   ],
   "source": [
    "y.y.value_counts(1)"
   ]
  },
  {
   "cell_type": "markdown",
   "metadata": {
    "id": "pwG9YNzG6VTN"
   },
   "source": [
    "## Escalamiento"
   ]
  },
  {
   "cell_type": "code",
   "execution_count": 41,
   "metadata": {
    "colab": {
     "base_uri": "https://localhost:8080/",
     "height": 427
    },
    "id": "wyMZfdcT6VTN",
    "outputId": "7a2fcd08-ab44-4577-d2d3-b7dd7b17d1ff"
   },
   "outputs": [],
   "source": [
    "Xmm = escalamiento(tad)"
   ]
  },
  {
   "cell_type": "code",
   "execution_count": 42,
   "metadata": {},
   "outputs": [
    {
     "data": {
      "text/plain": [
       "0.0000   0.7432\n",
       "1.0000   0.2568\n",
       "Name: y, dtype: float64"
      ]
     },
     "execution_count": 42,
     "metadata": {},
     "output_type": "execute_result"
    }
   ],
   "source": [
    "y.y.value_counts(1)"
   ]
  },
  {
   "cell_type": "markdown",
   "metadata": {},
   "source": [
    "## Seleccionar variable"
   ]
  },
  {
   "cell_type": "markdown",
   "metadata": {
    "id": "AqJ2F7q56VTO"
   },
   "source": [
    "### Multicolinealidad"
   ]
  },
  {
   "cell_type": "markdown",
   "metadata": {},
   "source": [
    "No trabaja con muchas variables"
   ]
  },
  {
   "cell_type": "markdown",
   "metadata": {
    "id": "FOCXq-4u6VTO"
   },
   "source": [
    "vc = VarClusHi(df=Xmm, feat_list=Xmm.columns,maxclus=10)\n",
    "\n",
    "vc.varclus()\n",
    "\n",
    "res = vc.rsquare.sort_values(by=[\"Cluster\", \"RS_Ratio\"]).groupby([\"Cluster\",'Variable']).first()\n",
    "\n",
    "res_aux = res.reset_index()\n",
    "\n",
    "res = vc.rsquare.sort_values(by=[\"Cluster\", \"RS_Ratio\"]).groupby([\"Cluster\"]).first()\n",
    "\n",
    "bf = [x for x in res[\"Variable\"]]\n",
    "\n",
    "bf"
   ]
  },
  {
   "cell_type": "markdown",
   "metadata": {
    "id": "d2m13G9w6VTP"
   },
   "source": [
    "Xv = X[bf]"
   ]
  },
  {
   "cell_type": "markdown",
   "metadata": {
    "id": "ndXkRNSfs5Jp"
   },
   "source": [
    "### KBest"
   ]
  },
  {
   "cell_type": "code",
   "execution_count": 43,
   "metadata": {
    "colab": {
     "base_uri": "https://localhost:8080/",
     "height": 480
    },
    "id": "5gkTQjL_J84v",
    "outputId": "cff5eff4-fe24-493a-c6f7-c76b43712cf0"
   },
   "outputs": [
    {
     "name": "stdout",
     "output_type": "stream",
     "text": [
      "Feature selection\n"
     ]
    },
    {
     "name": "stderr",
     "output_type": "stream",
     "text": [
      "/home/abraxas/venv/DIPLOMADO/lib/python3.8/site-packages/sklearn/utils/validation.py:744: DataConversionWarning:\n",
      "\n",
      "A column-vector y was passed when a 1d array was expected. Please change the shape of y to (n_samples, ), for example using ravel().\n",
      "\n"
     ]
    }
   ],
   "source": [
    "bf = feature_selection(Xmm,y)"
   ]
  },
  {
   "cell_type": "code",
   "execution_count": 44,
   "metadata": {
    "id": "puhnqZzuKWeD"
   },
   "outputs": [],
   "source": [
    "Xv = Xmm[bf].copy()"
   ]
  },
  {
   "cell_type": "markdown",
   "metadata": {
    "id": "oTo2EmKvPLd9"
   },
   "source": [
    "# Modelos"
   ]
  },
  {
   "cell_type": "code",
   "execution_count": 45,
   "metadata": {
    "id": "4RWJSikz6VTP"
   },
   "outputs": [],
   "source": [
    "import numpy as np\n",
    "import pandas as pd\n",
    "from sklearn.preprocessing import MinMaxScaler\n",
    "from sklearn.discriminant_analysis import LinearDiscriminantAnalysis\n",
    "from sklearn.metrics import r2_score, mean_absolute_error, roc_auc_score, accuracy_score\n",
    "from sklearn.model_selection import RandomizedSearchCV, GridSearchCV, cross_val_score, train_test_split\n",
    "from sklearn.feature_selection import SelectKBest, f_classif, mutual_info_classif, chi2, f_regression, mutual_info_regression\n",
    "from sklearn.linear_model import LinearRegression, LogisticRegression, Lars, Ridge, Lasso, ElasticNet, BayesianRidge, SGDRegressor, SGDClassifier"
   ]
  },
  {
   "cell_type": "code",
   "execution_count": 46,
   "metadata": {
    "id": "be3hScPs6VTP"
   },
   "outputs": [],
   "source": [
    "X_train, X_test, y_train, y_test = train_test_split(Xv, y, test_size=0.3, random_state=777)"
   ]
  },
  {
   "cell_type": "code",
   "execution_count": 47,
   "metadata": {},
   "outputs": [
    {
     "name": "stdout",
     "output_type": "stream",
     "text": [
      "0.0000   0.7442\n",
      "1.0000   0.2558\n",
      "Name: y, dtype: float64 0.0000   0.7407\n",
      "1.0000   0.2593\n",
      "Name: y, dtype: float64\n"
     ]
    }
   ],
   "source": [
    "print(y_train.y.value_counts(1),y_test.y.value_counts(1))"
   ]
  },
  {
   "cell_type": "markdown",
   "metadata": {},
   "source": [
    "## Regresión logística"
   ]
  },
  {
   "cell_type": "code",
   "execution_count": 48,
   "metadata": {
    "id": "tQgA1RDJRNHY"
   },
   "outputs": [],
   "source": [
    "logreg = LogisticRegression()"
   ]
  },
  {
   "cell_type": "code",
   "execution_count": 50,
   "metadata": {
    "colab": {
     "base_uri": "https://localhost:8080/"
    },
    "id": "TZ7zgX8s6VTR",
    "outputId": "6fc09321-9448-4814-c2c2-89e618b5c2fe",
    "scrolled": true
   },
   "outputs": [
    {
     "name": "stdout",
     "output_type": "stream",
     "text": [
      "Fitting 4 folds for each of 150 candidates, totalling 600 fits\n"
     ]
    },
    {
     "name": "stderr",
     "output_type": "stream",
     "text": [
      "[Parallel(n_jobs=-1)]: Using backend LokyBackend with 12 concurrent workers.\n",
      "[Parallel(n_jobs=-1)]: Done   1 tasks      | elapsed:    0.2s\n",
      "[Parallel(n_jobs=-1)]: Batch computation too fast (0.1538s.) Setting batch_size=2.\n",
      "[Parallel(n_jobs=-1)]: Done   8 tasks      | elapsed:    0.6s\n",
      "[Parallel(n_jobs=-1)]: Done  17 tasks      | elapsed:    0.8s\n",
      "[Parallel(n_jobs=-1)]: Done  30 tasks      | elapsed:    1.1s\n",
      "[Parallel(n_jobs=-1)]: Done  50 tasks      | elapsed:    1.4s\n",
      "[Parallel(n_jobs=-1)]: Done  72 tasks      | elapsed:    1.9s\n",
      "[Parallel(n_jobs=-1)]: Done  98 tasks      | elapsed:    2.5s\n",
      "[Parallel(n_jobs=-1)]: Done 124 tasks      | elapsed:    3.1s\n",
      "[Parallel(n_jobs=-1)]: Done 154 tasks      | elapsed:    3.8s\n",
      "[Parallel(n_jobs=-1)]: Done 184 tasks      | elapsed:    5.0s\n",
      "[Parallel(n_jobs=-1)]: Batch computation too slow (2.3238s.) Setting batch_size=1.\n",
      "[Parallel(n_jobs=-1)]: Done 218 tasks      | elapsed:    7.1s\n",
      "[Parallel(n_jobs=-1)]: Done 248 tasks      | elapsed:    9.4s\n",
      "[Parallel(n_jobs=-1)]: Done 272 tasks      | elapsed:   10.0s\n",
      "[Parallel(n_jobs=-1)]: Done 292 tasks      | elapsed:   10.6s\n",
      "[Parallel(n_jobs=-1)]: Done 313 tasks      | elapsed:   10.7s\n",
      "[Parallel(n_jobs=-1)]: Batch computation too fast (0.1770s.) Setting batch_size=2.\n",
      "[Parallel(n_jobs=-1)]: Done 334 tasks      | elapsed:   11.0s\n",
      "[Parallel(n_jobs=-1)]: Batch computation too slow (2.4557s.) Setting batch_size=1.\n",
      "[Parallel(n_jobs=-1)]: Done 374 tasks      | elapsed:   13.0s\n",
      "[Parallel(n_jobs=-1)]: Done 415 tasks      | elapsed:   14.1s\n",
      "[Parallel(n_jobs=-1)]: Done 441 tasks      | elapsed:   14.7s\n",
      "[Parallel(n_jobs=-1)]: Done 466 tasks      | elapsed:   15.0s\n",
      "[Parallel(n_jobs=-1)]: Done 495 tasks      | elapsed:   17.7s\n",
      "[Parallel(n_jobs=-1)]: Done 524 tasks      | elapsed:   18.4s\n",
      "[Parallel(n_jobs=-1)]: Done 553 tasks      | elapsed:   19.4s\n"
     ]
    },
    {
     "name": "stdout",
     "output_type": "stream",
     "text": [
      "ROC: 1.00\n"
     ]
    },
    {
     "name": "stderr",
     "output_type": "stream",
     "text": [
      "[Parallel(n_jobs=-1)]: Done 600 out of 600 | elapsed:   21.8s finished\n",
      "/home/abraxas/venv/DIPLOMADO/lib/python3.8/site-packages/sklearn/utils/validation.py:744: DataConversionWarning:\n",
      "\n",
      "A column-vector y was passed when a 1d array was expected. Please change the shape of y to (n_samples, ), for example using ravel().\n",
      "\n"
     ]
    }
   ],
   "source": [
    "hp_logistic = hyperparam_logistic(X_train,y_train)"
   ]
  },
  {
   "cell_type": "code",
   "execution_count": 51,
   "metadata": {
    "id": "qfcOMDsivCec"
   },
   "outputs": [],
   "source": [
    "be_logistic = hp_logistic.best_estimator_.steps[0][1]"
   ]
  },
  {
   "cell_type": "code",
   "execution_count": 52,
   "metadata": {
    "id": "qfcOMDsivCec",
    "scrolled": true
   },
   "outputs": [
    {
     "data": {
      "text/plain": [
       "0.9998108076149935"
      ]
     },
     "execution_count": 52,
     "metadata": {},
     "output_type": "execute_result"
    }
   ],
   "source": [
    "roc_auc_score(y_train,be_logistic.predict(X_train))"
   ]
  },
  {
   "cell_type": "code",
   "execution_count": 53,
   "metadata": {
    "id": "qfcOMDsivCec"
   },
   "outputs": [
    {
     "data": {
      "text/plain": [
       "0.9998891229626344"
      ]
     },
     "execution_count": 53,
     "metadata": {},
     "output_type": "execute_result"
    }
   ],
   "source": [
    "roc_auc_score(y_test,be_logistic.predict(X_test))"
   ]
  },
  {
   "cell_type": "markdown",
   "metadata": {
    "ExecuteTime": {
     "end_time": "2021-05-14T01:35:15.880797Z",
     "start_time": "2021-05-14T01:35:15.876728Z"
    },
    "id": "a1i5NTRF6VTU"
   },
   "source": [
    "pipe = Pipeline([(\"im\", SimpleImputer(strategy=\"median\")), (\"sc\", MinMaxScaler()), (\"kb\", SelectKBest(k=42, score_func=f_classif))])"
   ]
  },
  {
   "cell_type": "markdown",
   "metadata": {
    "id": "ehEMCM7C6VTV"
   },
   "source": [
    "### Red neuronal"
   ]
  },
  {
   "cell_type": "code",
   "execution_count": 103,
   "metadata": {},
   "outputs": [],
   "source": [
    "rn =  MLPClassifier()"
   ]
  },
  {
   "cell_type": "code",
   "execution_count": 104,
   "metadata": {
    "ExecuteTime": {
     "end_time": "2021-05-14T01:36:07.943757Z",
     "start_time": "2021-05-14T01:36:06.949061Z"
    },
    "id": "Mk1JXz--6VTV",
    "outputId": "f07cd07a-ebe9-432f-bcc9-83ca1a390f32"
   },
   "outputs": [
    {
     "name": "stdout",
     "output_type": "stream",
     "text": [
      "ROC media: 1.00, desviación estándar: 0.0\n"
     ]
    }
   ],
   "source": [
    "classification_metrics(X_train, y_train,rn)"
   ]
  },
  {
   "cell_type": "code",
   "execution_count": 106,
   "metadata": {
    "ExecuteTime": {
     "end_time": "2021-05-14T01:37:52.235206Z",
     "start_time": "2021-05-14T01:36:07.949234Z"
    },
    "id": "w0CQKwfG6VTW",
    "outputId": "788fa958-4344-48b2-e9fe-6607b377350f"
   },
   "outputs": [
    {
     "name": "stdout",
     "output_type": "stream",
     "text": [
      "Fitting 4 folds for each of 150 candidates, totalling 600 fits\n"
     ]
    },
    {
     "name": "stderr",
     "output_type": "stream",
     "text": [
      "[Parallel(n_jobs=-1)]: Using backend LokyBackend with 12 concurrent workers.\n",
      "[Parallel(n_jobs=-1)]: Done   1 tasks      | elapsed:    6.0s\n",
      "[Parallel(n_jobs=-1)]: Done   8 tasks      | elapsed:    7.7s\n",
      "[Parallel(n_jobs=-1)]: Done  17 tasks      | elapsed:   20.9s\n",
      "[Parallel(n_jobs=-1)]: Done  26 tasks      | elapsed:   27.5s\n",
      "[Parallel(n_jobs=-1)]: Done  37 tasks      | elapsed:   39.4s\n",
      "[Parallel(n_jobs=-1)]: Done  48 tasks      | elapsed:   45.9s\n",
      "[Parallel(n_jobs=-1)]: Done  61 tasks      | elapsed:   55.6s\n",
      "[Parallel(n_jobs=-1)]: Done  74 tasks      | elapsed:   59.9s\n",
      "[Parallel(n_jobs=-1)]: Done  89 tasks      | elapsed:  1.1min\n",
      "[Parallel(n_jobs=-1)]: Done 104 tasks      | elapsed:  1.4min\n",
      "[Parallel(n_jobs=-1)]: Done 121 tasks      | elapsed:  1.6min\n",
      "[Parallel(n_jobs=-1)]: Done 138 tasks      | elapsed:  1.7min\n",
      "[Parallel(n_jobs=-1)]: Done 157 tasks      | elapsed:  1.8min\n",
      "[Parallel(n_jobs=-1)]: Done 176 tasks      | elapsed:  1.9min\n",
      "[Parallel(n_jobs=-1)]: Done 197 tasks      | elapsed:  2.1min\n",
      "[Parallel(n_jobs=-1)]: Done 218 tasks      | elapsed:  2.3min\n",
      "[Parallel(n_jobs=-1)]: Done 241 tasks      | elapsed:  2.4min\n",
      "[Parallel(n_jobs=-1)]: Done 264 tasks      | elapsed:  2.7min\n",
      "[Parallel(n_jobs=-1)]: Done 289 tasks      | elapsed:  2.9min\n",
      "[Parallel(n_jobs=-1)]: Done 314 tasks      | elapsed:  3.3min\n",
      "[Parallel(n_jobs=-1)]: Done 341 tasks      | elapsed:  3.7min\n",
      "[Parallel(n_jobs=-1)]: Done 368 tasks      | elapsed:  3.9min\n",
      "[Parallel(n_jobs=-1)]: Done 397 tasks      | elapsed:  4.1min\n",
      "[Parallel(n_jobs=-1)]: Done 426 tasks      | elapsed:  4.3min\n",
      "[Parallel(n_jobs=-1)]: Done 457 tasks      | elapsed:  4.5min\n",
      "[Parallel(n_jobs=-1)]: Done 488 tasks      | elapsed:  4.8min\n",
      "[Parallel(n_jobs=-1)]: Done 521 tasks      | elapsed:  5.1min\n",
      "[Parallel(n_jobs=-1)]: Done 554 tasks      | elapsed:  5.5min\n",
      "[Parallel(n_jobs=-1)]: Done 600 out of 600 | elapsed:  5.9min finished\n",
      "/home/abraxas/venv/DIPLOMADO/lib/python3.8/site-packages/sklearn/neural_network/_multilayer_perceptron.py:934: DataConversionWarning:\n",
      "\n",
      "A column-vector y was passed when a 1d array was expected. Please change the shape of y to (n_samples, ), for example using ravel().\n",
      "\n"
     ]
    },
    {
     "name": "stdout",
     "output_type": "stream",
     "text": [
      "ROC: 1.00\n"
     ]
    }
   ],
   "source": [
    "hp_neural = hyperparam_neural(X_train, y_train)or x.startswith('month') "
   ]
  },
  {
   "cell_type": "code",
   "execution_count": 107,
   "metadata": {},
   "outputs": [],
   "source": [
    "be_neural = hp_neural.best_estimator_.steps[0][1]"
   ]
  },
  {
   "cell_type": "code",
   "execution_count": 110,
   "metadata": {},
   "outputs": [
    {
     "data": {
      "text/plain": [
       "0.9977303070761014"
      ]
     },
     "execution_count": 110,
     "metadata": {},
     "output_type": "execute_result"
    }
   ],
   "source": [
    "roc_auc_score(y_test,be_logistic.predict(X_test))"
   ]
  },
  {
   "cell_type": "markdown",
   "metadata": {
    "id": "sYIqak226VTW"
   },
   "source": [
    "### Support Vector Machine"
   ]
  },
  {
   "cell_type": "code",
   "execution_count": 114,
   "metadata": {
    "ExecuteTime": {
     "end_time": "2021-05-14T01:37:52.954753Z",
     "start_time": "2021-05-14T01:37:52.263988Z"
    },
    "id": "fM_wKyof6VTW"
   },
   "outputs": [
    {
     "name": "stdout",
     "output_type": "stream",
     "text": [
      "ROC media: 1.00, desviación estándar: 0.0\n"
     ]
    }
   ],
   "source": [
    "classification_metrics(X_train, y_train,SVC())"
   ]
  },
  {
   "cell_type": "code",
   "execution_count": 115,
   "metadata": {
    "ExecuteTime": {
     "end_time": "2021-05-14T01:38:06.658846Z",
     "start_time": "2021-05-14T01:37:52.957966Z"
    },
    "id": "J1W9oqV16VTW",
    "scrolled": true
   },
   "outputs": [
    {
     "name": "stdout",
     "output_type": "stream",
     "text": [
      "Fitting 4 folds for each of 150 candidates, totalling 600 fits\n"
     ]
    },
    {
     "name": "stderr",
     "output_type": "stream",
     "text": [
      "[Parallel(n_jobs=-1)]: Using backend LokyBackend with 12 concurrent workers.\n",
      "[Parallel(n_jobs=-1)]: Done   1 tasks      | elapsed:    5.5s\n",
      "[Parallel(n_jobs=-1)]: Done   8 tasks      | elapsed:    9.4s\n",
      "[Parallel(n_jobs=-1)]: Done  17 tasks      | elapsed:   18.4s\n",
      "[Parallel(n_jobs=-1)]: Done  26 tasks      | elapsed:   28.6s\n",
      "[Parallel(n_jobs=-1)]: Done  37 tasks      | elapsed:   35.1s\n",
      "[Parallel(n_jobs=-1)]: Done  48 tasks      | elapsed:   51.8s\n",
      "[Parallel(n_jobs=-1)]: Done  61 tasks      | elapsed:   56.9s\n",
      "[Parallel(n_jobs=-1)]: Done  74 tasks      | elapsed:  1.2min\n",
      "[Parallel(n_jobs=-1)]: Done  89 tasks      | elapsed:  1.4min\n",
      "[Parallel(n_jobs=-1)]: Done 104 tasks      | elapsed:  1.5min\n",
      "[Parallel(n_jobs=-1)]: Done 121 tasks      | elapsed:  1.9min\n",
      "[Parallel(n_jobs=-1)]: Done 138 tasks      | elapsed:  2.2min\n",
      "[Parallel(n_jobs=-1)]: Done 157 tasks      | elapsed:  2.4min\n",
      "[Parallel(n_jobs=-1)]: Done 176 tasks      | elapsed:  2.5min\n",
      "[Parallel(n_jobs=-1)]: Done 197 tasks      | elapsed:  2.8min\n",
      "[Parallel(n_jobs=-1)]: Done 218 tasks      | elapsed:  3.1min\n",
      "[Parallel(n_jobs=-1)]: Done 241 tasks      | elapsed:  3.4min\n",
      "[Parallel(n_jobs=-1)]: Done 264 tasks      | elapsed:  3.8min\n"
     ]
    },
    {
     "ename": "KeyboardInterrupt",
     "evalue": "",
     "output_type": "error",
     "traceback": [
      "\u001b[0;31m---------------------------------------------------------------------------\u001b[0m",
      "\u001b[0;31mKeyboardInterrupt\u001b[0m                         Traceback (most recent call last)",
      "\u001b[0;32m<ipython-input-115-7554821c5c1a>\u001b[0m in \u001b[0;36m<module>\u001b[0;34m\u001b[0m\n\u001b[0;32m----> 1\u001b[0;31m \u001b[0mhp_svc\u001b[0m \u001b[0;34m=\u001b[0m \u001b[0mhyperparam_svc\u001b[0m\u001b[0;34m(\u001b[0m\u001b[0mX_train\u001b[0m\u001b[0;34m,\u001b[0m \u001b[0my_train\u001b[0m\u001b[0;34m)\u001b[0m\u001b[0;34m\u001b[0m\u001b[0;34m\u001b[0m\u001b[0m\n\u001b[0m",
      "\u001b[0;32m<ipython-input-113-8fda9e486cee>\u001b[0m in \u001b[0;36mhyperparam_svc\u001b[0;34m(X, y, pipe)\u001b[0m\n\u001b[1;32m     18\u001b[0m                           \u001b[0mn_jobs\u001b[0m\u001b[0;34m=\u001b[0m\u001b[0;34m-\u001b[0m\u001b[0;36m1\u001b[0m\u001b[0;34m,\u001b[0m\u001b[0;34m\u001b[0m\u001b[0;34m\u001b[0m\u001b[0m\n\u001b[1;32m     19\u001b[0m                           random_state=0)\n\u001b[0;32m---> 20\u001b[0;31m     \u001b[0mhp\u001b[0m\u001b[0;34m.\u001b[0m\u001b[0mfit\u001b[0m\u001b[0;34m(\u001b[0m\u001b[0mX\u001b[0m\u001b[0;34m=\u001b[0m\u001b[0mX\u001b[0m\u001b[0;34m,\u001b[0m \u001b[0my\u001b[0m \u001b[0;34m=\u001b[0m \u001b[0my\u001b[0m\u001b[0;34m)\u001b[0m\u001b[0;34m\u001b[0m\u001b[0;34m\u001b[0m\u001b[0m\n\u001b[0m\u001b[1;32m     21\u001b[0m     \u001b[0mprint\u001b[0m\u001b[0;34m(\u001b[0m\u001b[0;34mf\"ROC: {hp.best_score_:,.2f}\"\u001b[0m\u001b[0;34m)\u001b[0m\u001b[0;34m\u001b[0m\u001b[0;34m\u001b[0m\u001b[0m\n\u001b[1;32m     22\u001b[0m     \u001b[0;32mreturn\u001b[0m \u001b[0mhp\u001b[0m\u001b[0;34m\u001b[0m\u001b[0;34m\u001b[0m\u001b[0m\n",
      "\u001b[0;32m~/venv/DIPLOMADO/lib/python3.8/site-packages/sklearn/model_selection/_search.py\u001b[0m in \u001b[0;36mfit\u001b[0;34m(self, X, y, groups, **fit_params)\u001b[0m\n\u001b[1;32m    710\u001b[0m                 \u001b[0;32mreturn\u001b[0m \u001b[0mresults\u001b[0m\u001b[0;34m\u001b[0m\u001b[0;34m\u001b[0m\u001b[0m\n\u001b[1;32m    711\u001b[0m \u001b[0;34m\u001b[0m\u001b[0m\n\u001b[0;32m--> 712\u001b[0;31m             \u001b[0mself\u001b[0m\u001b[0;34m.\u001b[0m\u001b[0m_run_search\u001b[0m\u001b[0;34m(\u001b[0m\u001b[0mevaluate_candidates\u001b[0m\u001b[0;34m)\u001b[0m\u001b[0;34m\u001b[0m\u001b[0;34m\u001b[0m\u001b[0m\n\u001b[0m\u001b[1;32m    713\u001b[0m \u001b[0;34m\u001b[0m\u001b[0m\n\u001b[1;32m    714\u001b[0m         \u001b[0;31m# For multi-metric evaluation, store the best_index_, best_params_ and\u001b[0m\u001b[0;34m\u001b[0m\u001b[0;34m\u001b[0m\u001b[0;34m\u001b[0m\u001b[0m\n",
      "\u001b[0;32m~/venv/DIPLOMADO/lib/python3.8/site-packages/sklearn/model_selection/_search.py\u001b[0m in \u001b[0;36m_run_search\u001b[0;34m(self, evaluate_candidates)\u001b[0m\n\u001b[1;32m   1482\u001b[0m     \u001b[0;32mdef\u001b[0m \u001b[0m_run_search\u001b[0m\u001b[0;34m(\u001b[0m\u001b[0mself\u001b[0m\u001b[0;34m,\u001b[0m \u001b[0mevaluate_candidates\u001b[0m\u001b[0;34m)\u001b[0m\u001b[0;34m:\u001b[0m\u001b[0;34m\u001b[0m\u001b[0;34m\u001b[0m\u001b[0m\n\u001b[1;32m   1483\u001b[0m         \u001b[0;34m\"\"\"Search n_iter candidates from param_distributions\"\"\"\u001b[0m\u001b[0;34m\u001b[0m\u001b[0;34m\u001b[0m\u001b[0m\n\u001b[0;32m-> 1484\u001b[0;31m         evaluate_candidates(ParameterSampler(\n\u001b[0m\u001b[1;32m   1485\u001b[0m             \u001b[0mself\u001b[0m\u001b[0;34m.\u001b[0m\u001b[0mparam_distributions\u001b[0m\u001b[0;34m,\u001b[0m \u001b[0mself\u001b[0m\u001b[0;34m.\u001b[0m\u001b[0mn_iter\u001b[0m\u001b[0;34m,\u001b[0m\u001b[0;34m\u001b[0m\u001b[0;34m\u001b[0m\u001b[0m\n\u001b[1;32m   1486\u001b[0m             random_state=self.random_state))\n",
      "\u001b[0;32m~/venv/DIPLOMADO/lib/python3.8/site-packages/sklearn/model_selection/_search.py\u001b[0m in \u001b[0;36mevaluate_candidates\u001b[0;34m(candidate_params)\u001b[0m\n\u001b[1;32m    682\u001b[0m                               n_splits, n_candidates, n_candidates * n_splits))\n\u001b[1;32m    683\u001b[0m \u001b[0;34m\u001b[0m\u001b[0m\n\u001b[0;32m--> 684\u001b[0;31m                 out = parallel(delayed(_fit_and_score)(clone(base_estimator),\n\u001b[0m\u001b[1;32m    685\u001b[0m                                                        \u001b[0mX\u001b[0m\u001b[0;34m,\u001b[0m \u001b[0my\u001b[0m\u001b[0;34m,\u001b[0m\u001b[0;34m\u001b[0m\u001b[0;34m\u001b[0m\u001b[0m\n\u001b[1;32m    686\u001b[0m                                                        \u001b[0mtrain\u001b[0m\u001b[0;34m=\u001b[0m\u001b[0mtrain\u001b[0m\u001b[0;34m,\u001b[0m \u001b[0mtest\u001b[0m\u001b[0;34m=\u001b[0m\u001b[0mtest\u001b[0m\u001b[0;34m,\u001b[0m\u001b[0;34m\u001b[0m\u001b[0;34m\u001b[0m\u001b[0m\n",
      "\u001b[0;32m~/venv/DIPLOMADO/lib/python3.8/site-packages/joblib/parallel.py\u001b[0m in \u001b[0;36m__call__\u001b[0;34m(self, iterable)\u001b[0m\n\u001b[1;32m   1059\u001b[0m \u001b[0;34m\u001b[0m\u001b[0m\n\u001b[1;32m   1060\u001b[0m             \u001b[0;32mwith\u001b[0m \u001b[0mself\u001b[0m\u001b[0;34m.\u001b[0m\u001b[0m_backend\u001b[0m\u001b[0;34m.\u001b[0m\u001b[0mretrieval_context\u001b[0m\u001b[0;34m(\u001b[0m\u001b[0;34m)\u001b[0m\u001b[0;34m:\u001b[0m\u001b[0;34m\u001b[0m\u001b[0;34m\u001b[0m\u001b[0m\n\u001b[0;32m-> 1061\u001b[0;31m                 \u001b[0mself\u001b[0m\u001b[0;34m.\u001b[0m\u001b[0mretrieve\u001b[0m\u001b[0;34m(\u001b[0m\u001b[0;34m)\u001b[0m\u001b[0;34m\u001b[0m\u001b[0;34m\u001b[0m\u001b[0m\n\u001b[0m\u001b[1;32m   1062\u001b[0m             \u001b[0;31m# Make sure that we get a last message telling us we are done\u001b[0m\u001b[0;34m\u001b[0m\u001b[0;34m\u001b[0m\u001b[0;34m\u001b[0m\u001b[0m\n\u001b[1;32m   1063\u001b[0m             \u001b[0melapsed_time\u001b[0m \u001b[0;34m=\u001b[0m \u001b[0mtime\u001b[0m\u001b[0;34m.\u001b[0m\u001b[0mtime\u001b[0m\u001b[0;34m(\u001b[0m\u001b[0;34m)\u001b[0m \u001b[0;34m-\u001b[0m \u001b[0mself\u001b[0m\u001b[0;34m.\u001b[0m\u001b[0m_start_time\u001b[0m\u001b[0;34m\u001b[0m\u001b[0;34m\u001b[0m\u001b[0m\n",
      "\u001b[0;32m~/venv/DIPLOMADO/lib/python3.8/site-packages/joblib/parallel.py\u001b[0m in \u001b[0;36mretrieve\u001b[0;34m(self)\u001b[0m\n\u001b[1;32m    938\u001b[0m             \u001b[0;32mtry\u001b[0m\u001b[0;34m:\u001b[0m\u001b[0;34m\u001b[0m\u001b[0;34m\u001b[0m\u001b[0m\n\u001b[1;32m    939\u001b[0m                 \u001b[0;32mif\u001b[0m \u001b[0mgetattr\u001b[0m\u001b[0;34m(\u001b[0m\u001b[0mself\u001b[0m\u001b[0;34m.\u001b[0m\u001b[0m_backend\u001b[0m\u001b[0;34m,\u001b[0m \u001b[0;34m'supports_timeout'\u001b[0m\u001b[0;34m,\u001b[0m \u001b[0;32mFalse\u001b[0m\u001b[0;34m)\u001b[0m\u001b[0;34m:\u001b[0m\u001b[0;34m\u001b[0m\u001b[0;34m\u001b[0m\u001b[0m\n\u001b[0;32m--> 940\u001b[0;31m                     \u001b[0mself\u001b[0m\u001b[0;34m.\u001b[0m\u001b[0m_output\u001b[0m\u001b[0;34m.\u001b[0m\u001b[0mextend\u001b[0m\u001b[0;34m(\u001b[0m\u001b[0mjob\u001b[0m\u001b[0;34m.\u001b[0m\u001b[0mget\u001b[0m\u001b[0;34m(\u001b[0m\u001b[0mtimeout\u001b[0m\u001b[0;34m=\u001b[0m\u001b[0mself\u001b[0m\u001b[0;34m.\u001b[0m\u001b[0mtimeout\u001b[0m\u001b[0;34m)\u001b[0m\u001b[0;34m)\u001b[0m\u001b[0;34m\u001b[0m\u001b[0;34m\u001b[0m\u001b[0m\n\u001b[0m\u001b[1;32m    941\u001b[0m                 \u001b[0;32melse\u001b[0m\u001b[0;34m:\u001b[0m\u001b[0;34m\u001b[0m\u001b[0;34m\u001b[0m\u001b[0m\n\u001b[1;32m    942\u001b[0m                     \u001b[0mself\u001b[0m\u001b[0;34m.\u001b[0m\u001b[0m_output\u001b[0m\u001b[0;34m.\u001b[0m\u001b[0mextend\u001b[0m\u001b[0;34m(\u001b[0m\u001b[0mjob\u001b[0m\u001b[0;34m.\u001b[0m\u001b[0mget\u001b[0m\u001b[0;34m(\u001b[0m\u001b[0;34m)\u001b[0m\u001b[0;34m)\u001b[0m\u001b[0;34m\u001b[0m\u001b[0;34m\u001b[0m\u001b[0m\n",
      "\u001b[0;32m~/venv/DIPLOMADO/lib/python3.8/site-packages/joblib/_parallel_backends.py\u001b[0m in \u001b[0;36mwrap_future_result\u001b[0;34m(future, timeout)\u001b[0m\n\u001b[1;32m    540\u001b[0m         AsyncResults.get from multiprocessing.\"\"\"\n\u001b[1;32m    541\u001b[0m         \u001b[0;32mtry\u001b[0m\u001b[0;34m:\u001b[0m\u001b[0;34m\u001b[0m\u001b[0;34m\u001b[0m\u001b[0m\n\u001b[0;32m--> 542\u001b[0;31m             \u001b[0;32mreturn\u001b[0m \u001b[0mfuture\u001b[0m\u001b[0;34m.\u001b[0m\u001b[0mresult\u001b[0m\u001b[0;34m(\u001b[0m\u001b[0mtimeout\u001b[0m\u001b[0;34m=\u001b[0m\u001b[0mtimeout\u001b[0m\u001b[0;34m)\u001b[0m\u001b[0;34m\u001b[0m\u001b[0;34m\u001b[0m\u001b[0m\n\u001b[0m\u001b[1;32m    543\u001b[0m         \u001b[0;32mexcept\u001b[0m \u001b[0mCfTimeoutError\u001b[0m \u001b[0;32mas\u001b[0m \u001b[0me\u001b[0m\u001b[0;34m:\u001b[0m\u001b[0;34m\u001b[0m\u001b[0;34m\u001b[0m\u001b[0m\n\u001b[1;32m    544\u001b[0m             \u001b[0;32mraise\u001b[0m \u001b[0mTimeoutError\u001b[0m \u001b[0;32mfrom\u001b[0m \u001b[0me\u001b[0m\u001b[0;34m\u001b[0m\u001b[0;34m\u001b[0m\u001b[0m\n",
      "\u001b[0;32m/usr/lib/python3.8/concurrent/futures/_base.py\u001b[0m in \u001b[0;36mresult\u001b[0;34m(self, timeout)\u001b[0m\n\u001b[1;32m    432\u001b[0m                 \u001b[0;32mreturn\u001b[0m \u001b[0mself\u001b[0m\u001b[0;34m.\u001b[0m\u001b[0m__get_result\u001b[0m\u001b[0;34m(\u001b[0m\u001b[0;34m)\u001b[0m\u001b[0;34m\u001b[0m\u001b[0;34m\u001b[0m\u001b[0m\n\u001b[1;32m    433\u001b[0m \u001b[0;34m\u001b[0m\u001b[0m\n\u001b[0;32m--> 434\u001b[0;31m             \u001b[0mself\u001b[0m\u001b[0;34m.\u001b[0m\u001b[0m_condition\u001b[0m\u001b[0;34m.\u001b[0m\u001b[0mwait\u001b[0m\u001b[0;34m(\u001b[0m\u001b[0mtimeout\u001b[0m\u001b[0;34m)\u001b[0m\u001b[0;34m\u001b[0m\u001b[0;34m\u001b[0m\u001b[0m\n\u001b[0m\u001b[1;32m    435\u001b[0m \u001b[0;34m\u001b[0m\u001b[0m\n\u001b[1;32m    436\u001b[0m             \u001b[0;32mif\u001b[0m \u001b[0mself\u001b[0m\u001b[0;34m.\u001b[0m\u001b[0m_state\u001b[0m \u001b[0;32min\u001b[0m \u001b[0;34m[\u001b[0m\u001b[0mCANCELLED\u001b[0m\u001b[0;34m,\u001b[0m \u001b[0mCANCELLED_AND_NOTIFIED\u001b[0m\u001b[0;34m]\u001b[0m\u001b[0;34m:\u001b[0m\u001b[0;34m\u001b[0m\u001b[0;34m\u001b[0m\u001b[0m\n",
      "\u001b[0;32m/usr/lib/python3.8/threading.py\u001b[0m in \u001b[0;36mwait\u001b[0;34m(self, timeout)\u001b[0m\n\u001b[1;32m    300\u001b[0m         \u001b[0;32mtry\u001b[0m\u001b[0;34m:\u001b[0m    \u001b[0;31m# restore state no matter what (e.g., KeyboardInterrupt)\u001b[0m\u001b[0;34m\u001b[0m\u001b[0;34m\u001b[0m\u001b[0m\n\u001b[1;32m    301\u001b[0m             \u001b[0;32mif\u001b[0m \u001b[0mtimeout\u001b[0m \u001b[0;32mis\u001b[0m \u001b[0;32mNone\u001b[0m\u001b[0;34m:\u001b[0m\u001b[0;34m\u001b[0m\u001b[0;34m\u001b[0m\u001b[0m\n\u001b[0;32m--> 302\u001b[0;31m                 \u001b[0mwaiter\u001b[0m\u001b[0;34m.\u001b[0m\u001b[0macquire\u001b[0m\u001b[0;34m(\u001b[0m\u001b[0;34m)\u001b[0m\u001b[0;34m\u001b[0m\u001b[0;34m\u001b[0m\u001b[0m\n\u001b[0m\u001b[1;32m    303\u001b[0m                 \u001b[0mgotit\u001b[0m \u001b[0;34m=\u001b[0m \u001b[0;32mTrue\u001b[0m\u001b[0;34m\u001b[0m\u001b[0;34m\u001b[0m\u001b[0m\n\u001b[1;32m    304\u001b[0m             \u001b[0;32melse\u001b[0m\u001b[0;34m:\u001b[0m\u001b[0;34m\u001b[0m\u001b[0;34m\u001b[0m\u001b[0m\n",
      "\u001b[0;31mKeyboardInterrupt\u001b[0m: "
     ]
    }
   ],
   "source": [
    "hp_svc = hyperparam_svc(X_train, y_train)"
   ]
  },
  {
   "cell_type": "code",
   "execution_count": null,
   "metadata": {
    "ExecuteTime": {
     "end_time": "2021-05-14T01:38:06.682292Z",
     "start_time": "2021-05-14T01:38:06.661808Z"
    },
    "id": "UpXabH4y6VTW"
   },
   "outputs": [],
   "source": [
    "hp_svc.score(X_test, y_test)"
   ]
  },
  {
   "cell_type": "markdown",
   "metadata": {
    "id": "yvlUthup6VTW"
   },
   "source": [
    "### XGBoost"
   ]
  },
  {
   "cell_type": "code",
   "execution_count": null,
   "metadata": {
    "ExecuteTime": {
     "end_time": "2021-05-14T01:38:07.496922Z",
     "start_time": "2021-05-14T01:38:06.685677Z"
    },
    "id": "zllPQkeS6VTX"
   },
   "outputs": [],
   "source": [
    "classification_metrics(X_train, y_train, pipe, XGBClassifier())"
   ]
  },
  {
   "cell_type": "code",
   "execution_count": null,
   "metadata": {
    "ExecuteTime": {
     "end_time": "2021-05-14T01:38:07.502324Z",
     "start_time": "2021-05-14T01:38:07.499174Z"
    },
    "id": "YvVIvaof6VTX"
   },
   "outputs": [],
   "source": [
    "xgb = XGBClassifier()"
   ]
  },
  {
   "cell_type": "code",
   "execution_count": null,
   "metadata": {
    "ExecuteTime": {
     "end_time": "2021-05-14T01:38:08.534836Z",
     "start_time": "2021-05-14T01:38:07.504261Z"
    },
    "id": "g8q6ZzWC6VTX"
   },
   "outputs": [],
   "source": [
    "xgb.fit(X_train, y_train)"
   ]
  },
  {
   "cell_type": "code",
   "execution_count": null,
   "metadata": {
    "ExecuteTime": {
     "end_time": "2021-05-14T01:38:08.570269Z",
     "start_time": "2021-05-14T01:38:08.536971Z"
    },
    "id": "NxvI6cUN6VTX"
   },
   "outputs": [],
   "source": [
    "xgb.score(X_test, y_test)"
   ]
  },
  {
   "cell_type": "markdown",
   "metadata": {
    "id": "WSZsWFBA6VTX"
   },
   "source": [
    "## Resultados"
   ]
  },
  {
   "cell_type": "code",
   "execution_count": null,
   "metadata": {
    "ExecuteTime": {
     "end_time": "2021-05-14T01:40:25.448070Z",
     "start_time": "2021-05-14T01:40:25.314504Z"
    },
    "id": "VUYS3Q_F6VTX"
   },
   "outputs": [],
   "source": [
    "proba_logistic_train = hp_logistic.predict_proba(X_train)\n",
    "proba_neural_train = hp_neural.predict_proba(X_train)\n",
    "proba_svc_train = hp_svc.predict_proba(X_train)\n",
    "proba_xgb_train = xgb.predict_proba(X_train)"
   ]
  },
  {
   "cell_type": "code",
   "execution_count": null,
   "metadata": {
    "ExecuteTime": {
     "end_time": "2021-05-14T01:40:26.487977Z",
     "start_time": "2021-05-14T01:40:26.374212Z"
    },
    "id": "XBCEo7gm6VTX"
   },
   "outputs": [],
   "source": [
    "proba_logistic_test = hp_logistic.predict_proba(X_test)\n",
    "proba_neural_test = hp_neural.predict_proba(X_test)\n",
    "proba_svc_test = hp_svc.predict_proba(X_test)\n",
    "proba_xgb_test = xgb.predict_proba(X_test)"
   ]
  },
  {
   "cell_type": "code",
   "execution_count": null,
   "metadata": {
    "ExecuteTime": {
     "end_time": "2021-05-14T01:40:44.071827Z",
     "start_time": "2021-05-14T01:40:44.061873Z"
    },
    "id": "4Sr4xMPn6VTX"
   },
   "outputs": [],
   "source": [
    "X_train[\"proba_logistic\"] = proba_logistic_train[:, 1]\n",
    "X_train[\"proba_neural\"] = proba_neural_train[:, 1]\n",
    "X_train[\"proba_svc\"] = proba_svc_train[:, 1]\n",
    "X_train[\"proba_xgb\"] = proba_xgb_train[:, 1]\n",
    "X_train[\"set\"] = \"train\""
   ]
  },
  {
   "cell_type": "code",
   "execution_count": null,
   "metadata": {
    "ExecuteTime": {
     "end_time": "2021-05-14T01:40:48.583254Z",
     "start_time": "2021-05-14T01:40:48.567120Z"
    },
    "id": "m9I9LCH26VTY"
   },
   "outputs": [],
   "source": [
    "X_test[\"proba_logistic\"] = proba_logistic_test[:, 1]\n",
    "X_test[\"proba_neural\"] = proba_neural_test[:, 1]\n",
    "X_test[\"proba_svc\"] = proba_svc_test[:, 1]\n",
    "X_test[\"proba_xgb\"] = proba_xgb_test[:, 1]\n",
    "X_test[\"set\"] = \"test\""
   ]
  },
  {
   "cell_type": "code",
   "execution_count": null,
   "metadata": {
    "ExecuteTime": {
     "end_time": "2021-05-14T01:41:27.843004Z",
     "start_time": "2021-05-14T01:41:27.716667Z"
    },
    "id": "pP1jgEhA6VTY"
   },
   "outputs": [],
   "source": [
    "for tabla in X_train, X_test:\n",
    "    for modelo in [\"logistic\", \"neural\", \"svc\", \"xgb\"]:\n",
    "        tabla[f\"bin_proba_{modelo}\"] = pd.cut(tabla[f\"proba_{modelo}\"],bins=np.arange(0,1.1,0.1),include_lowest=True).astype(str)"
   ]
  },
  {
   "cell_type": "code",
   "execution_count": null,
   "metadata": {
    "ExecuteTime": {
     "end_time": "2021-05-14T01:41:46.468999Z",
     "start_time": "2021-05-14T01:41:46.448377Z"
    },
    "id": "rS6L78M36VTY"
   },
   "outputs": [],
   "source": [
    "full = pd.concat([X_train.join(y_train), X_test.join(y_test)])"
   ]
  },
  {
   "cell_type": "code",
   "execution_count": null,
   "metadata": {
    "ExecuteTime": {
     "end_time": "2021-05-14T01:41:56.093739Z",
     "start_time": "2021-05-14T01:41:55.988738Z"
    },
    "id": "JQYu2AYW6VTY"
   },
   "outputs": [],
   "source": [
    "full.to_pickle(\"full_loan.diplo\")"
   ]
  },
  {
   "cell_type": "code",
   "execution_count": null,
   "metadata": {
    "ExecuteTime": {
     "end_time": "2021-05-14T01:42:13.477002Z",
     "start_time": "2021-05-14T01:42:13.457892Z"
    },
    "id": "zrsfcNSW6VTY"
   },
   "outputs": [],
   "source": [
    "full[[x for x in full.columns if x.startswith(\"proba\") or x.startswith(\"bin_proba\")]+[\"tgt\", \"set\"]].to_csv(\"full_loan.csv\")"
   ]
  },
  {
   "cell_type": "code",
   "execution_count": null,
   "metadata": {
    "id": "DY_eDUs36VTY"
   },
   "outputs": [],
   "source": []
  }
 ],
 "metadata": {
  "colab": {
   "collapsed_sections": [
    "ehEMCM7C6VTV",
    "sYIqak226VTW",
    "yvlUthup6VTW",
    "WSZsWFBA6VTX"
   ],
   "name": "Práctica 2_Modelación Supervisada v0c.ipynb",
   "provenance": [],
   "toc_visible": true
  },
  "kernelspec": {
   "display_name": "Python 3",
   "language": "python",
   "name": "python3"
  },
  "language_info": {
   "codemirror_mode": {
    "name": "ipython",
    "version": 3
   },
   "file_extension": ".py",
   "mimetype": "text/x-python",
   "name": "python",
   "nbconvert_exporter": "python",
   "pygments_lexer": "ipython3",
   "version": "3.8.5"
  },
  "notify_time": "5",
  "toc": {
   "base_numbering": 1,
   "nav_menu": {},
   "number_sections": true,
   "sideBar": true,
   "skip_h1_title": false,
   "title_cell": "Table of Contents",
   "title_sidebar": "Contents",
   "toc_cell": false,
   "toc_position": {
    "height": "calc(100% - 180px)",
    "left": "10px",
    "top": "150px",
    "width": "349.091px"
   },
   "toc_section_display": true,
   "toc_window_display": true
  }
 },
 "nbformat": 4,
 "nbformat_minor": 5
}
